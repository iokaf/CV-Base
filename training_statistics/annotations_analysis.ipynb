{
 "cells": [
  {
   "cell_type": "code",
   "execution_count": 1,
   "metadata": {},
   "outputs": [],
   "source": [
    "import json\n",
    "from statistics_functions import StatisticsFunctions\n",
    "\n",
    "\n",
    "import numpy as np\n",
    "import seaborn as sns\n",
    "import matplotlib.pyplot as plt"
   ]
  },
  {
   "cell_type": "code",
   "execution_count": 2,
   "metadata": {},
   "outputs": [],
   "source": [
    "annotations_path = \"/home/swarm/Documents/Number_Of_Cuts/data/train_data.json\"\n",
    "with open(annotations_path, \"r\") as file:\n",
    "    annotations = json.load(file)"
   ]
  },
  {
   "cell_type": "code",
   "execution_count": 3,
   "metadata": {},
   "outputs": [
    {
     "data": {
      "text/plain": [
       "830"
      ]
     },
     "execution_count": 3,
     "metadata": {},
     "output_type": "execute_result"
    }
   ],
   "source": [
    "len(annotations)"
   ]
  },
  {
   "cell_type": "code",
   "execution_count": 4,
   "metadata": {},
   "outputs": [
    {
     "data": {
      "text/plain": [
       "{'frame_num': 36048,\n",
       " 'event_name': 'cold snare',\n",
       " 'video_filename': 'coloscopie_2022-02-08_08-49-05_HeilEndoBox',\n",
       " 'polyp_id': 1,\n",
       " 'crop': [0, 1080, 232, 1692],\n",
       " 'fps': 50,\n",
       " 'fold': 47,\n",
       " 'tool': 'cold snare',\n",
       " 'resection_number': 256,\n",
       " 'last_cut': False,\n",
       " 'first_cut': False,\n",
       " 'status': 'Verified',\n",
       " 'idx': 429,\n",
       " 'cut_frame': 36218}"
      ]
     },
     "execution_count": 4,
     "metadata": {},
     "output_type": "execute_result"
    }
   ],
   "source": [
    "annotations[10]"
   ]
  },
  {
   "cell_type": "code",
   "execution_count": 5,
   "metadata": {},
   "outputs": [
    {
     "data": {
      "text/plain": [
       "[{'frame_num': 20038,\n",
       "  'event_name': 'hot snare',\n",
       "  'video_filename': 'coloscopie_2022-02-08_08-49-05_HeilEndoBox',\n",
       "  'polyp_id': 0,\n",
       "  'crop': [0, 1080, 232, 1692],\n",
       "  'fps': 50,\n",
       "  'fold': 47,\n",
       "  'tool': 'hot snare',\n",
       "  'resection_number': 94,\n",
       "  'last_cut': True,\n",
       "  'first_cut': True,\n",
       "  'status': 'Verified',\n",
       "  'idx': 148,\n",
       "  'cut_frame': 20113}]"
      ]
     },
     "execution_count": 5,
     "metadata": {},
     "output_type": "execute_result"
    }
   ],
   "source": [
    "these_cuts = [cut for cut in annotations if cut[\"video_filename\"] == 'coloscopie_2022-02-08_08-49-05_HeilEndoBox' and cut[\"polyp_id\"] == 0]\n",
    "these_cuts"
   ]
  },
  {
   "attachments": {},
   "cell_type": "markdown",
   "metadata": {},
   "source": [
    "# Snare cuts data analysis\n",
    "\n",
    "For the paper we are going to need to report on the data, so its good to have this analysis ready.\n",
    "We need the following:\n",
    "\n",
    "- number of cuts of all examination\n",
    "- number of first cuts (= number of resections)\n",
    "- Distribution of numbers of cuts\n",
    "- Distribution of numbers of tools (how many resections had 1,2,3... cuts)\n",
    "- Number of examinations, resections, cuts per center\n",
    "\n",
    "Additionally, we will need the above analysis for two categories of subgroups:\n",
    "1. For each center  (we want to see if the data are the same or different in each center)\n",
    "2. For the two different types of snares. (We want to see if the use of snare impacts the number of cuts, I assume it does)\n",
    "\n",
    "It would be nice if the above were implemented in a class/functions that take list of dictionaries as inputs in the form that we have above.\n",
    "We want this because we will need to update the stats when new data comes.\n",
    "\n",
    "It would also be nice to save all these statistics each time we produce them with a filename that contains the date.\n",
    "This way we can monitor the evolution of our training data\n",
    "\n",
    "\n",
    "## ENJOY"
   ]
  },
  {
   "cell_type": "code",
   "execution_count": 6,
   "metadata": {},
   "outputs": [],
   "source": [
    "polypid = [annotation[\"polyp_id\"] for annotation in annotations]\n",
    "max_polypid = max(polypid)"
   ]
  },
  {
   "cell_type": "code",
   "execution_count": 7,
   "metadata": {},
   "outputs": [
    {
     "name": "stdout",
     "output_type": "stream",
     "text": [
      "299\n",
      "41\n",
      "[1, 1, 2, 1, 1, 1, 1, 1, 1, 1, 1, 2, 1, 1, 1, 1, 1, 1, 1, 1, 1, 1, 1, 1, 1, 1, 1, 1, 1, 1, 1, 2, 1, 1, 2, 1, 1, 1, 1, 1, 1, 1, 2, 2, 1, 1, 3, 2, 1, 4, 1, 1, 1, 1, 1, 1, 1, 1, 1, 1, 2, 1, 1, 1, 1, 1, 3, 2, 1, 2, 2]\n"
     ]
    },
    {
     "data": {
      "text/plain": [
       "[0, 57, 11, 2, 1]"
      ]
     },
     "execution_count": 7,
     "metadata": {},
     "output_type": "execute_result"
    }
   ],
   "source": [
    "# Number of examinations, resections, cuts per center\n",
    "\n",
    "# To get each centers' name \n",
    "# There are 8 centers\n",
    "nameList = np.unique([annotation[\"video_filename\"] for annotation in annotations])\n",
    "print(len(nameList))\n",
    "\n",
    "Boeck_Center = []\n",
    "Passek_Center = []\n",
    "Heil_Center =[]\n",
    "Ludwig_Center = []\n",
    "Stuttgart_Center = []\n",
    "Heubach_Center = []\n",
    "Simonis_Center = []\n",
    "Katharinen_Center =[]\n",
    "Other_Center = []\n",
    "\n",
    "for filename in nameList:\n",
    "    if 'boeck' in filename.lower():\n",
    "        Boeck_Center.append(filename)\n",
    "    elif 'passek' in filename.lower():\n",
    "        Passek_Center.append(filename)\n",
    "    elif 'heil' in filename.lower():\n",
    "        Heil_Center.append(filename)\n",
    "    elif 'ludwig' in filename.lower():\n",
    "        Ludwig_Center.append(filename)\n",
    "    elif 'stuttgart' in filename.lower():\n",
    "        Stuttgart_Center.append(filename)\n",
    "    elif 'heubach' in filename.lower():\n",
    "        Heubach_Center.append(filename)\n",
    "    elif 'katharinen' in filename.lower():    \n",
    "        Katharinen_Center.append(filename)\n",
    "    elif 'simonis' in filename.lower():    \n",
    "        Simonis_Center.append(filename)    \n",
    "    else:\n",
    "        Other_Center.append(filename)\n",
    "        \n",
    "# To know number of examinaitons per center\n",
    "print(len(Boeck_Center))\n",
    "#...\n",
    "\n",
    "\n",
    "number_cut = []\n",
    "#for annotation in annotations:\n",
    "for name in Boeck_Center:\n",
    "    #if annotation[\"video_filename\"] == name: \n",
    "    for i in range(max_polypid+1): \n",
    "        #if annotation[\"polyp_id\"] == i:\n",
    "        #if annotation['tool'] == 'cold snare':                        \n",
    "        the_cuts = [cut for cut in annotations if cut[\"video_filename\"] == name and cut[\"polyp_id\"] == i and cut['tool'] == 'cold snare']\n",
    "        #number_cut.append(len(the_cuts))\n",
    "        if len(the_cuts) != 0:\n",
    "            number_cut.append(len(the_cuts))\n",
    "\n",
    "\n",
    "sum_number_cuts = []\n",
    "for i in range(max(number_cut)+1):\n",
    "     sum_number_cuts.append(number_cut.count(i))\n",
    "\n",
    "print(number_cut)\n",
    "sum_number_cuts\n",
    "\n"
   ]
  },
  {
   "cell_type": "code",
   "execution_count": 8,
   "metadata": {},
   "outputs": [
    {
     "name": "stdout",
     "output_type": "stream",
     "text": [
      "[1, 1, 2, 1, 1, 1, 1, 1, 1, 1, 1, 2, 1, 1, 1, 1, 1, 1, 1, 1, 1, 1, 1, 1, 1, 1, 1, 1, 1, 1, 1, 2, 1, 1, 2, 1, 1, 1, 1, 1, 1, 1, 2, 2, 1, 1, 3, 2, 1, 4, 1, 1, 1, 1, 1, 1, 1, 1, 1, 1, 2, 1, 1, 1, 1, 1, 3, 2, 1, 2, 2]\n",
      "[0, 57, 11, 2, 1]\n"
     ]
    }
   ],
   "source": [
    "from statistics_functions import StatisticsFunctions\n",
    "SF = StatisticsFunctions(annotations)\n",
    "Boeck_Center = SF.get_filename_by_center(Center=\"boeck\")\n",
    "#len(Boeck_Center) \n",
    "number_of_cuts = SF.number_of_cuts(data = Boeck_Center, tool=\"cold snare\") \n",
    "print(number_of_cuts)\n",
    "sum_number_of_cuts = SF.sum_number_of_cuts(number_of_cuts)\n",
    "print(sum_number_of_cuts)\n"
   ]
  },
  {
   "cell_type": "code",
   "execution_count": null,
   "metadata": {},
   "outputs": [],
   "source": []
  },
  {
   "cell_type": "code",
   "execution_count": 9,
   "metadata": {},
   "outputs": [
    {
     "name": "stdout",
     "output_type": "stream",
     "text": [
      "[1, 1, 2, 1, 1, 1, 1, 2, 1, 1, 1, 1, 2, 1, 1, 1, 1, 1, 1, 1, 1, 1, 1, 1, 1, 1, 1, 1, 1, 1, 1, 1, 1, 1, 1, 1, 1, 1, 1, 1, 1, 1, 2, 1, 1, 1, 1, 1, 1, 1, 1, 1, 1, 1, 2, 2, 1, 1, 1, 1, 1, 1, 1, 1, 1, 2, 1, 1, 1, 1, 1, 2, 1, 3, 1, 1, 1, 1, 1, 1, 2, 1, 1, 1, 1, 1, 1, 1, 1, 1, 1, 1, 1, 1, 1, 1, 1, 1, 2, 1, 1, 1, 1, 1, 1, 1, 1, 1, 1, 1, 1, 1, 1, 1, 1, 12, 2, 1, 2, 1, 2, 1, 1, 1, 1, 1, 1, 1, 2, 1, 1, 1, 1, 1, 1, 1, 2, 1, 1, 1, 1, 1, 1, 1, 1, 1, 1, 1, 1, 1, 1, 1, 2, 1, 1, 1, 1, 1, 1, 1, 1, 1, 1, 1, 4, 2, 1, 1, 1, 3, 2, 1, 1, 1, 1, 1, 1, 1, 1, 1, 1, 1, 1, 3, 1, 3, 1, 2, 1, 2, 1, 2, 1, 1, 1, 1, 1, 1, 1, 1, 1, 1, 1, 1, 2, 1, 1, 1, 1, 1, 1, 4, 2, 1, 1, 1, 1, 1, 1, 1, 2, 3, 1, 8, 1, 1, 1, 1, 12, 2, 1, 2, 2, 1, 1, 2, 2, 2, 1, 1, 1, 2, 1, 1, 1, 1, 1, 1, 1, 1, 1, 3, 2, 2, 1, 1, 1, 1, 1, 1, 2, 5, 1, 2, 2, 1, 2, 1, 1, 1, 1, 1, 1, 1, 1, 1, 4, 1, 1, 1, 1, 1, 1, 1, 1, 1, 1, 2, 2, 1, 1, 2, 2, 1, 1, 1, 1, 1, 2, 1, 3, 1, 1, 1, 1, 2, 1, 1, 1, 1, 1, 1, 1, 1, 1, 2, 1, 1, 1, 1, 1, 1, 1, 1, 2, 1, 1, 1, 1, 1, 1, 1, 1, 1, 1, 1, 1, 1, 1, 1, 1, 1, 1, 2, 1, 1, 1, 1, 5, 1, 1, 1, 2, 2, 1, 1, 1, 1, 2, 1, 1, 2, 1, 1, 1, 1, 1, 1, 1, 1, 2, 1, 1, 1, 1, 1, 1, 1, 1, 1, 1, 1, 1, 1, 1, 2, 1, 2, 5, 1, 1, 3, 1, 1, 1, 1, 2, 3, 1, 1, 1, 1, 1, 1, 1, 1, 1, 3, 1, 1, 1, 2, 1, 1, 1, 1, 1, 1, 1, 1, 2, 2, 1, 1, 1, 1, 3, 2, 2, 1, 1, 3, 1, 1, 1, 1, 1, 1, 4, 1, 1, 1, 2, 1, 1, 1, 1, 1, 2, 3, 1, 2, 1, 1, 1, 1, 1, 1, 1, 1, 1, 2, 1, 1, 1, 1, 1, 1, 1, 1, 1, 1, 1, 1, 2, 1, 1, 1, 1, 21, 1, 3, 1, 1, 1, 1, 1, 1, 1, 2, 1, 1, 1, 1, 1, 1, 1, 1, 1, 1, 1, 1, 1, 1, 1, 2, 1, 1, 1, 2, 1, 1, 1, 1, 1, 1, 1, 1, 1, 1, 1, 1, 1, 3, 1, 1, 1, 1, 1, 1, 1, 1, 1, 1, 1, 1, 2, 1, 2, 1, 1, 2, 1, 1, 1, 2, 1, 1, 1, 1, 1, 1, 1, 1, 2, 1, 1, 1, 1, 1, 1, 1, 1, 1, 1, 1, 1, 1, 1, 1, 1, 1, 1, 1, 1, 2, 2, 1, 1, 3, 2, 1, 4, 2, 1, 1, 1, 1, 1, 1, 1, 1, 1, 1, 1, 1, 1, 1, 1, 1, 2, 1, 1, 1, 1, 1, 1, 1, 1, 1, 1, 1, 1, 2, 1, 1, 1, 1, 1, 1, 1, 3, 2, 1, 2, 2, 1, 1, 1, 1, 1, 1, 1, 1, 2, 1, 1, 1]\n",
      "[0, 527, 82, 17, 5, 3, 0, 0, 1, 0, 0, 0, 2, 0, 0, 0, 0, 0, 0, 0, 0, 1]\n",
      "638\n"
     ]
    },
    {
     "data": {
      "image/png": "[encoded data removed]",
      "text/plain": [
       "<Figure size 432x288 with 1 Axes>"
      ]
     },
     "metadata": {
      "needs_background": "light"
     },
     "output_type": "display_data"
    }
   ],
   "source": [
    "#Distribution of numbers of cuts\n",
    "\n",
    "#get all centers' name\n",
    "nameList = np.unique([annotation[\"video_filename\"] for annotation in annotations])\n",
    "\n",
    "number_cut = []\n",
    "#for annotation in annotations:\n",
    "for name in nameList:\n",
    "    #if annotation[\"video_filename\"] == name: \n",
    "        for i in range(max_polypid+1): \n",
    "            #if annotation[\"polyp_id\"] == i: #i\n",
    "                #print(name)\n",
    "                #print(i)\n",
    "            the_cuts = [cut for cut in annotations if cut[\"video_filename\"] == name and cut[\"polyp_id\"] == i]\n",
    "            if len(the_cuts) != 0:\n",
    "                number_cut.append(len(the_cuts))\n",
    "\n",
    "\n",
    "sum_number_cuts = []\n",
    "for i in range(max(number_cut)+1):\n",
    "     sum_number_cuts.append(number_cut.count(i))\n",
    "\n",
    "print(number_cut)\n",
    "print(sum_number_cuts)\n",
    "print(sum(sum_number_cuts))\n",
    "#print(max_polypid)\n",
    "\n",
    "\n",
    "# make a histogram plot\n",
    "plot = sns.histplot(number_cut, discrete= 1)\n",
    "plt.xlabel(\"Number of cuts\")\n",
    "plot.set_title(\"All examinations\")\n",
    "\n",
    "plt.xticks(range(min(number_cut), max(number_cut)+1,2))\n",
    "\n",
    "for p in plot.patches:\n",
    "    # Get the height of the bar\n",
    "    height = p.get_height()\n",
    "    # Add the text annotation at the top of each bar\n",
    "    if height:\n",
    "        plt.annotate(str(int(height)), (p.get_x() + p.get_width()/2, height), ha='center', va='bottom')\n",
    "        \n",
    "plt.show()"
   ]
  },
  {
   "cell_type": "code",
   "execution_count": 10,
   "metadata": {},
   "outputs": [
    {
     "name": "stdout",
     "output_type": "stream",
     "text": [
      "The total number of cuts in the file is 830\n",
      "The number of first cut (total number of polyps) in the file is 638\n",
      "The max polyp ID is 14\n",
      "The total number of unique filenames is 299\n",
      "The number of 0,1,2,... cuts is [0, 527, 82, 17, 5, 3, 0, 0, 1, 0, 0, 0, 2, 0, 0, 0, 0, 0, 0, 0, 0, 1]\n",
      "638\n"
     ]
    },
    {
     "ename": "TypeError",
     "evalue": "distribution_plot() takes 1 positional argument but 2 were given",
     "output_type": "error",
     "traceback": [
      "\u001b[0;31m---------------------------------------------------------------------------\u001b[0m",
      "\u001b[0;31mTypeError\u001b[0m                                 Traceback (most recent call last)",
      "\u001b[0;32m/tmp/ipykernel_2920361/1628668141.py\u001b[0m in \u001b[0;36m<module>\u001b[0;34m\u001b[0m\n\u001b[1;32m     16\u001b[0m \u001b[0;31m#SF.distribution_number_of_cuts() #ReDo\u001b[0m\u001b[0;34m\u001b[0m\u001b[0;34m\u001b[0m\u001b[0m\n\u001b[1;32m     17\u001b[0m \u001b[0;34m\u001b[0m\u001b[0m\n\u001b[0;32m---> 18\u001b[0;31m \u001b[0mSF\u001b[0m\u001b[0;34m.\u001b[0m\u001b[0mdistribution_plot\u001b[0m\u001b[0;34m(\u001b[0m\u001b[0mnumber_of_cuts\u001b[0m\u001b[0;34m)\u001b[0m\u001b[0;34m\u001b[0m\u001b[0;34m\u001b[0m\u001b[0m\n\u001b[0m",
      "\u001b[0;31mTypeError\u001b[0m: distribution_plot() takes 1 positional argument but 2 were given"
     ]
    }
   ],
   "source": [
    "# test the functions above\n",
    "from statistics_functions import StatisticsFunctions\n",
    "SF = StatisticsFunctions(annotations)\n",
    "number_of_cuts = SF.calculate_number_of_cuts()\n",
    "print(f\"The total number of cuts in the file is {number_of_cuts}\")\n",
    "number_of_first_cut = SF.number_of_first_cut()\n",
    "print(f\"The number of first cut (total number of polyps) in the file is {number_of_first_cut}\")\n",
    "max_polyp_id= SF.max_polyp_id()\n",
    "print(f\"The max polyp ID is {max_polyp_id}\")\n",
    "get_all_filename = SF.get_all_filename()\n",
    "print(f\"The total number of unique filenames is {len(get_all_filename)}\")\n",
    "number_of_cuts = SF.number_of_cuts(data= get_all_filename, tool=\"all\") #pass\n",
    "sum_number_of_cuts = SF.sum_number_of_cuts(number_of_cuts)\n",
    "print(f\"The number of 0,1,2,... cuts is {sum_number_of_cuts}\")\n",
    "print(sum(sum_number_of_cuts)) #638\n",
    "#SF.distribution_number_of_cuts() #ReDo \n",
    "\n",
    "SF.distribution_plot(number_of_cuts)"
   ]
  },
  {
   "cell_type": "code",
   "execution_count": null,
   "metadata": {},
   "outputs": [
    {
     "ename": "TypeError",
     "evalue": "number_of_cuts() missing 1 required positional argument: 'data'",
     "output_type": "error",
     "traceback": [
      "\u001b[0;31m---------------------------------------------------------------------------\u001b[0m",
      "\u001b[0;31mTypeError\u001b[0m                                 Traceback (most recent call last)",
      "\u001b[0;32m/tmp/ipykernel_2920265/3672759773.py\u001b[0m in \u001b[0;36m<module>\u001b[0;34m\u001b[0m\n\u001b[1;32m      1\u001b[0m \u001b[0;31m# Distribution of numbers of cut with cold snare\u001b[0m\u001b[0;34m\u001b[0m\u001b[0;34m\u001b[0m\u001b[0m\n\u001b[0;32m----> 2\u001b[0;31m \u001b[0mnumber_of_cuts\u001b[0m \u001b[0;34m=\u001b[0m \u001b[0mSF\u001b[0m\u001b[0;34m.\u001b[0m\u001b[0mnumber_of_cuts\u001b[0m\u001b[0;34m(\u001b[0m\u001b[0mtool\u001b[0m\u001b[0;34m=\u001b[0m\u001b[0;34m\"cold snare\"\u001b[0m\u001b[0;34m)\u001b[0m\u001b[0;34m\u001b[0m\u001b[0;34m\u001b[0m\u001b[0m\n\u001b[0m\u001b[1;32m      3\u001b[0m \u001b[0msum_number_of_cuts\u001b[0m \u001b[0;34m=\u001b[0m \u001b[0mSF\u001b[0m\u001b[0;34m.\u001b[0m\u001b[0msum_number_of_cuts\u001b[0m\u001b[0;34m(\u001b[0m\u001b[0mnumber_of_cuts\u001b[0m\u001b[0;34m)\u001b[0m\u001b[0;34m\u001b[0m\u001b[0;34m\u001b[0m\u001b[0m\n\u001b[1;32m      4\u001b[0m \u001b[0mprint\u001b[0m\u001b[0;34m(\u001b[0m\u001b[0;34mf\"The number of 0,1,2,... cuts with cold snare is {sum_number_of_cuts}\"\u001b[0m\u001b[0;34m)\u001b[0m\u001b[0;34m\u001b[0m\u001b[0;34m\u001b[0m\u001b[0m\n\u001b[1;32m      5\u001b[0m \u001b[0mprint\u001b[0m\u001b[0;34m(\u001b[0m\u001b[0;34mf\"The total number of cut with cold snare is {sum(sum_number_of_cuts)}\"\u001b[0m\u001b[0;34m)\u001b[0m \u001b[0;31m#511\u001b[0m\u001b[0;34m\u001b[0m\u001b[0;34m\u001b[0m\u001b[0m\n",
      "\u001b[0;31mTypeError\u001b[0m: number_of_cuts() missing 1 required positional argument: 'data'"
     ]
    }
   ],
   "source": [
    "# Distribution of numbers of cut with cold snare\n",
    "number_of_cuts = SF.number_of_cuts(tool=\"cold snare\") \n",
    "sum_number_of_cuts = SF.sum_number_of_cuts(number_of_cuts)\n",
    "print(f\"The number of 0,1,2,... cuts with cold snare is {sum_number_of_cuts}\")\n",
    "print(f\"The total number of cut with cold snare is {sum(sum_number_of_cuts)}\") #511"
   ]
  },
  {
   "cell_type": "code",
   "execution_count": null,
   "metadata": {},
   "outputs": [
    {
     "name": "stdout",
     "output_type": "stream",
     "text": [
      "The number of 0,1,2,... cuts with hot snare is [0, 103, 19, 1, 2, 0, 0, 0, 0, 0, 0, 0, 2]\n",
      "The total number of cut with hot snare is 127\n"
     ]
    }
   ],
   "source": [
    "number_of_cuts = SF.number_of_cuts(tool=\"hot snare\")\n",
    "sum_number_of_cuts = SF.sum_number_of_cuts(number_of_cuts)\n",
    "print(f\"The number of 0,1,2,... cuts with hot snare is {sum_number_of_cuts}\")\n",
    "print(f\"The total number of cut with hot snare is {sum(sum_number_of_cuts)}\") #127"
   ]
  },
  {
   "attachments": {},
   "cell_type": "markdown",
   "metadata": {},
   "source": []
  }
 ],
 "metadata": {
  "kernelspec": {
   "display_name": "base",
   "language": "python",
   "name": "python3"
  },
  "language_info": {
   "codemirror_mode": {
    "name": "ipython",
    "version": 3
   },
   "file_extension": ".py",
   "mimetype": "text/x-python",
   "name": "python",
   "nbconvert_exporter": "python",
   "pygments_lexer": "ipython3",
   "version": "3.9.7"
  },
  "orig_nbformat": 4
 },
 "nbformat": 4,
 "nbformat_minor": 2
}
